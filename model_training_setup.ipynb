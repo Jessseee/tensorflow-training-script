{
 "cells": [
  {
   "cell_type": "markdown",
   "id": "f7b7e144-bcde-46bd-b90f-f9c2eefcc162",
   "metadata": {},
   "source": [
    "# Interactive TensorFlow Classification Model Training Workbench"
   ]
  },
  {
   "cell_type": "markdown",
   "id": "b64fd856-22b5-4d3b-8671-4b32b16a8cce",
   "metadata": {
    "tags": []
   },
   "source": [
    "## Setup\n",
    "First we setup the project, import the configuration and load the datasets to use during training."
   ]
  },
  {
   "cell_type": "markdown",
   "id": "171b41a7-d90a-472e-bab8-c343576d8a87",
   "metadata": {},
   "source": [
    "### Imports\n",
    "Import all the Python modules that are required by default."
   ]
  },
  {
   "cell_type": "code",
   "execution_count": 14,
   "id": "56e7cbb6-9ed3-4266-9abc-0666f9d53e38",
   "metadata": {},
   "outputs": [
    {
     "data": {
      "text/plain": [
       "'TensorFlow v2.8.0'"
      ]
     },
     "execution_count": 14,
     "metadata": {},
     "output_type": "execute_result"
    }
   ],
   "source": [
    "import tensorflow as tf\n",
    "from tensorflow.keras import Sequential\n",
    "from tensorflow.keras.models import load_model\n",
    "from tensorflow.keras.layers import Dense, GlobalAveragePooling2D\n",
    "from tensorflow.keras.preprocessing.image import ImageDataGenerator\n",
    "from tensorflow.keras.callbacks import Callback, ModelCheckpoint, BackupAndRestore\n",
    "\n",
    "import matplotlib.pyplot as plt\n",
    "import matplotlib.image as mpimg\n",
    "from IPython.display import clear_output\n",
    "\n",
    "import os\n",
    "import yaml\n",
    "from collections import defaultdict\n",
    "\n",
    "f'TensorFlow v{tf.__version__}'"
   ]
  },
  {
   "cell_type": "markdown",
   "id": "1b584850-3fc9-485a-836d-ce0fba7103ed",
   "metadata": {},
   "source": [
    "### Config\n",
    "Load the `config.yaml` file."
   ]
  },
  {
   "cell_type": "code",
   "execution_count": null,
   "id": "dd77ec44-9deb-4aff-994e-3c9f2507902b",
   "metadata": {
    "tags": []
   },
   "outputs": [],
   "source": [
    "with open('./config.yaml') as config_file:\n",
    "    config = yaml.safe_load(config_file)\n",
    "    print(yaml.dump(config))\n",
    "\n",
    "dataset_cfg = config['dataset']\n",
    "model_cfg = config['model']\n",
    "optimizer_cfg = config['optimizer']\n",
    "callback_cfg = config.get('callbacks', dict())\n",
    "training_cfg = config.get('training', dict())"
   ]
  },
  {
   "cell_type": "markdown",
   "id": "36d00320-a440-4b99-a248-d3d8077af61e",
   "metadata": {
    "tags": []
   },
   "source": [
    "### Data Generators\n",
    "Define the training and validation datasets."
   ]
  },
  {
   "cell_type": "code",
   "execution_count": null,
   "id": "0ebe944c-b29c-4750-a44d-ceef0d4200f6",
   "metadata": {},
   "outputs": [],
   "source": [
    "gen_train = ImageDataGenerator().flow_from_directory(\n",
    "    dataset_cfg['src']+'/training',\n",
    "    batch_size=dataset_cfg.get('batch'),\n",
    "    class_mode=dataset_cfg['class_mode'],\n",
    "    **dataset_cfg.get('train_options', dict())\n",
    ")\n",
    "\n",
    "gen_valid = ImageDataGenerator().flow_from_directory(\n",
    "    dataset_cfg['src']+'/validation',\n",
    "    batch_size=dataset_cfg['batch'],\n",
    "    class_mode=dataset_cfg['class_mode'],\n",
    "    **dataset_cfg.get('valid_options', dict())\n",
    ")"
   ]
  },
  {
   "cell_type": "markdown",
   "id": "290f9380-8892-4998-9a81-144ee93612f0",
   "metadata": {
    "tags": []
   },
   "source": [
    "### Preview training frames\n",
    "Preview 8 Frames from each class. Second cell can be run again to preview new frames each time."
   ]
  },
  {
   "cell_type": "code",
   "execution_count": null,
   "id": "6d17f3fd-4e38-476e-a177-0da12f8cac02",
   "metadata": {},
   "outputs": [],
   "source": [
    "%matplotlib inline\n",
    "\n",
    "nrows = 2\n",
    "ncols = 4\n",
    "nimgs = nrows*ncols\n",
    "index = 0\n",
    "\n",
    "training_dir = dataset_cfg['src']+'/training/'\n",
    "\n",
    "class_frames = dict()\n",
    "for cls in dataset_cfg['classes']:\n",
    "    class_frames[cls] = os.listdir(training_dir+cls)\n",
    "\n",
    "\n",
    "def plot_images(images, title):\n",
    "    fig = plt.gcf()\n",
    "    fig.set_size_inches(ncols * 3, nrows * 3)\n",
    "    fig.suptitle(title, size=20)\n",
    "    for i, image in enumerate(images):\n",
    "        sp = plt.subplot(nrows, ncols, i + 1)\n",
    "        sp.axis('Off')\n",
    "        img = mpimg.imread(image)\n",
    "        plt.imshow(img)\n",
    "    plt.show()"
   ]
  },
  {
   "cell_type": "code",
   "execution_count": null,
   "id": "9a12c654-56c1-4e76-96ce-0d2c76ec62c2",
   "metadata": {},
   "outputs": [],
   "source": [
    "index += nimgs\n",
    "\n",
    "for cls, frames in class_frames.items():\n",
    "    frames = [os.path.join(training_dir+cls, f) for f in class_frames[cls][index-nimgs:index]]\n",
    "    plot_images(frames, cls)"
   ]
  },
  {
   "cell_type": "markdown",
   "id": "52f49c97-304a-45e2-8894-3296babaf154",
   "metadata": {},
   "source": [
    "## Model\n",
    "Here we first define the model that is going to be trained and compile it."
   ]
  },
  {
   "cell_type": "markdown",
   "id": "6b2567e9-0162-4e8a-918b-363d860e6b6e",
   "metadata": {},
   "source": [
    "### Model Architecture\n",
    "Import the model class and initialize the model."
   ]
  },
  {
   "cell_type": "code",
   "execution_count": null,
   "id": "4983d363-5ee7-4733-9ffc-5948932ec6ea",
   "metadata": {},
   "outputs": [],
   "source": [
    "ModelClass = getattr(\n",
    "    __import__(\n",
    "        model_cfg['module'],\n",
    "        fromlist=[model_cfg['class']]\n",
    "    ),  model_cfg['class']\n",
    ")\n",
    "\n",
    "input_shape = model_cfg.get('input_shape', '(224, 224, 3)')\n",
    "input_shape = tuple(map(int, input_shape[1:-1].split(',')))\n",
    "\n",
    "base = ModelClass(\n",
    "    include_top=model_cfg.get('include_top', False),\n",
    "    weights=model_cfg.get('weights'),\n",
    "    input_shape=input_shape,\n",
    "    **model_cfg.get('class_options', dict())\n",
    ")\n",
    "\n",
    "model = Sequential()\n",
    "model._name = model_cfg.get('name', base.name)\n",
    "model.add(base)\n",
    "model.add(GlobalAveragePooling2D())\n",
    "model.add(\n",
    "    Dense(\n",
    "        len(dataset_cfg['classes'])-1,\n",
    "        activation=model_cfg.get('fc_layer_activation', 'sigmoid')\n",
    "    )\n",
    ")\n",
    "model.layers[0].trainable = False\n",
    "\n",
    "model.summary()"
   ]
  },
  {
   "cell_type": "markdown",
   "id": "070e8f26-0914-405c-b5a4-519a0f09095e",
   "metadata": {},
   "source": [
    "### Optimizer\n",
    "Import and Initialize the optimizer."
   ]
  },
  {
   "cell_type": "code",
   "execution_count": null,
   "id": "5e1b649c-1a3a-4d6f-bf43-ebe699cecfa8",
   "metadata": {},
   "outputs": [],
   "source": [
    "OptimizerClass = getattr(\n",
    "    __import__(\n",
    "        optimizer_cfg['module'],\n",
    "        fromlist=[optimizer_cfg['class']]\n",
    "    ),  optimizer_cfg['class']\n",
    ")\n",
    "\n",
    "optimizer = OptimizerClass(**optimizer_cfg.get('options', dict()))\n",
    "\n",
    "print('optimizer:', OptimizerClass.__name__)"
   ]
  },
  {
   "cell_type": "markdown",
   "id": "acce8542-1f83-4798-b407-edc0d2c8d83b",
   "metadata": {},
   "source": [
    "### Compile Model\n",
    "Compile the model and set the optimizer."
   ]
  },
  {
   "cell_type": "code",
   "execution_count": null,
   "id": "c167d062-f37f-45b3-990e-58a1d1f8559a",
   "metadata": {},
   "outputs": [],
   "source": [
    "model.compile(\n",
    "    optimizer=optimizer,\n",
    "    loss=model_cfg.get('loss', 'binary_crossentropy'),\n",
    "    metrics=model_cfg.get('metrics', 'accuracy'),\n",
    "    **model_cfg.get('compile_options', dict())\n",
    ")"
   ]
  },
  {
   "cell_type": "markdown",
   "id": "262f54df-bb4b-46c3-b97e-ebd7e3e6d048",
   "metadata": {},
   "source": [
    "## Training & Evaluation\n",
    "Finally we define what callbacks to use during training and start the training. Afterwards, we evaluate the best checkpoint model saved during training."
   ]
  },
  {
   "cell_type": "markdown",
   "id": "4340534f-9e75-4a32-93f7-84a672ddfc4c",
   "metadata": {},
   "source": [
    "### Callbacks\n",
    "Import and initiate the different callbacks to be used during training."
   ]
  },
  {
   "cell_type": "code",
   "execution_count": null,
   "id": "ca5dc180-2c2e-4e91-934c-c206b919a3f0",
   "metadata": {},
   "outputs": [],
   "source": [
    "class PlotLearning(Callback):\n",
    "    \"\"\"Callback to plot the learning curves of the model during training.\"\"\"\n",
    "\n",
    "    def on_train_begin(self, logs={}):\n",
    "        self.metrics = defaultdict(list)\n",
    "        for metric in logs:\n",
    "            self.metrics[metric] = []\n",
    "\n",
    "    def plot(self, epoch, logs={}):\n",
    "        for metric in logs:\n",
    "            self.metrics[metric].append(logs.get(metric))\n",
    "        metrics = [x for x in logs if 'val' not in x]\n",
    "\n",
    "        x = range(1, epoch + 2)\n",
    "        f, axs = plt.subplots(1, len(metrics), figsize=(15, 5))\n",
    "\n",
    "        clear_output(wait=True)\n",
    "\n",
    "        for i, metric in enumerate(metrics):\n",
    "            axs[i].plot(x,\n",
    "                        self.metrics[metric],\n",
    "                        label=metric)\n",
    "            if logs.get('val_' + metric):\n",
    "                axs[i].plot(range(1, epoch + 2),\n",
    "                            self.metrics['val_' + metric],\n",
    "                            label='val_' + metric)\n",
    "\n",
    "            axs[i].legend()\n",
    "            axs[i].grid()\n",
    "\n",
    "        plt.tight_layout()\n",
    "        plt.show()\n",
    "\n",
    "    def on_epoch_end(self, epoch, logs={}):\n",
    "        self.plot(epoch, logs)\n",
    "\n",
    "    def on_training_end(self, logs={}):\n",
    "        self.plot(training_cfg.get('epochs', 10), logs)\n",
    "        plt.save(model_cfg.get('checkpoints', 'models')+'/'+base.name+'.png')\n",
    "\n",
    "\n",
    "plot_learning = PlotLearning()\n",
    "\n",
    "checkpoint = ModelCheckpoint(\n",
    "    training_cfg.get('checkpoints', 'models')+'/'+base.name+'.h5',\n",
    "    monitor=\"val_loss\",\n",
    "    verbose=1,\n",
    "    save_best_only=True,\n",
    "    save_weights_only=False,\n",
    "    mode=\"min\",\n",
    "    save_freq=\"epoch\",\n",
    "    options=None,\n",
    ")\n",
    "\n",
    "backup_and_restore = BackupAndRestore(training_cfg.get('backups', 'backup'))\n",
    "\n",
    "callbacks = [plot_learning, checkpoint, backup_and_restore]\n",
    "\n",
    "for callback, options in callback_cfg.items():\n",
    "    CallbackClass = getattr(\n",
    "        __import__(\n",
    "            'tensorflow.keras.callbacks',\n",
    "            fromlist=[callback]\n",
    "        ),  callback\n",
    "    )\n",
    "    callbacks.append(CallbackClass(**options))\n",
    "\n",
    "print(\n",
    "    'callbacks:',\n",
    "    ['PlotLearning',\n",
    "     'ModelCheckpoint',\n",
    "     'BackupAndRestore',\n",
    "     *callback_cfg.keys()]\n",
    " )"
   ]
  },
  {
   "cell_type": "markdown",
   "id": "d4777043-53dc-4bae-a9dd-f0691c1c7e05",
   "metadata": {},
   "source": [
    "### Training Model\n",
    "Start the training process with the defined configuration."
   ]
  },
  {
   "cell_type": "code",
   "execution_count": null,
   "id": "ebe9ab23-3b60-4380-a180-d5f8e061c0c8",
   "metadata": {},
   "outputs": [],
   "source": [
    "history = model.fit(\n",
    "    gen_train,\n",
    "    steps_per_epoch=training_cfg.get('training_steps_per_epoch'),\n",
    "    validation_data=gen_valid,\n",
    "    validation_steps=training_cfg.get('validation_steps_per_epoch'),\n",
    "    callbacks=callbacks,\n",
    "    epochs=training_cfg.get('epochs', 10),\n",
    "    **training_cfg.get('options', dict())\n",
    ")"
   ]
  },
  {
   "cell_type": "markdown",
   "id": "bf842462-471d-47d5-8c13-16d584b11e77",
   "metadata": {},
   "source": [
    "### Evaluate Model Checkpoint\n",
    "Evaluate the best checkpoint model saved during training."
   ]
  },
  {
   "cell_type": "code",
   "execution_count": null,
   "id": "c9ff71cf-3432-455f-9c5c-f87b1e2baf69",
   "metadata": {},
   "outputs": [],
   "source": [
    "val_model = load_model(model_cfg.get('checkpoints', 'models')+'/'+base.name+'.h5')\n",
    "val_model.evaluate(gen_valid)"
   ]
  }
 ],
 "metadata": {
  "kernelspec": {
   "display_name": "Python",
   "language": "python",
   "name": "python3"
  },
  "language_info": {
   "codemirror_mode": {
    "name": "ipython",
    "version": 3
   },
   "file_extension": ".py",
   "mimetype": "text/x-python",
   "name": "python",
   "nbconvert_exporter": "python",
   "pygments_lexer": "ipython3",
   "version": "3.8.10"
  }
 },
 "nbformat": 4,
 "nbformat_minor": 5
}
